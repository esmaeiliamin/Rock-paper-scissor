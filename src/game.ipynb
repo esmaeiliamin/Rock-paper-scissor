{
 "cells": [
  {
   "cell_type": "markdown",
   "id": "6c94e56c",
   "metadata": {},
   "source": [
    "Steps of game :\n",
    "- get player choice\n",
    "- get computer choice\n",
    "- compare the choices\n",
    "- declare winner\n",
    "- display result\n",
    "- play again"
   ]
  },
  {
   "cell_type": "code",
   "execution_count": null,
   "id": "44affdc1",
   "metadata": {},
   "outputs": [],
   "source": [
    "import random\n",
    "\n",
    "\n",
    "class RockPaperScissors:\n",
    "    def __init__(self, name):\n",
    "        self.player_name = name\n",
    "        self.choices = [\"rock\", \"paper\", \"scissors\"]\n",
    "\n",
    "    def get_player_choice(self):\n",
    "        user_choice = input(f'Enter your choice ({self.choices}):')\n",
    "        if user_choice.lower() in self.choices:\n",
    "            return user_choice.lower()\n",
    "        else:\n",
    "            print(\"Invalid choice. You must choose rock, paper, or scissors.\")\n",
    "            return self.get_player_choice()\n",
    "\n",
    "    def get_computer_choice(self):\n",
    "        return random.choice(self.choices)\n",
    "\n",
    "    def determine_winner(self, user_choice, computer_choice):\n",
    "        if user_choice == computer_choice:\n",
    "            return \"It's a Tie!\"\n",
    "        win_combinations = [(\"rock\", \"scissors\"), (\"scissors\", \"paper\"), (\"paper\", \"rock\")]\n",
    "        for combo in win_combinations:\n",
    "            if (user_choice == combo[0]) & (computer_choice == combo[1]):\n",
    "                return \"Congratulations! You win!\"\n",
    "        return \"Sorry! You lose!\"\n",
    "\n",
    "    def play(self):\n",
    "        user_choice = self.get_player_choice()\n",
    "        computer_choice = self.get_computer_choice()\n",
    "        winner = self.determine_winner(user_choice, computer_choice)\n",
    "        print(f\"{self.player_name} chose {user_choice}\")\n",
    "        print(f\"Computer chose {computer_choice}\")\n",
    "        print(f\"{winner} wins!\")"
   ]
  },
  {
   "cell_type": "code",
   "execution_count": null,
   "id": "f7615429",
   "metadata": {},
   "outputs": [
    {
     "name": "stdout",
     "output_type": "stream",
     "text": [
      "Amin chose rock\n",
      "Computer chose paper\n",
      "Sorry! You lose! wins!\n"
     ]
    }
   ],
   "source": [
    "game = RockPaperScissors('Amin')\n",
    "\n",
    "while True:\n",
    "    game.play()\n",
    "\n",
    "    continue_game = input('Do you want to play again? (y/n): ')\n",
    "    if continue_game == 'y':\n",
    "        continue\n",
    "    else:\n",
    "        break\n",
    "print('Thanks for playing!')"
   ]
  }
 ],
 "metadata": {
  "kernelspec": {
   "display_name": "py310",
   "language": "python",
   "name": "python3"
  },
  "language_info": {
   "codemirror_mode": {
    "name": "ipython",
    "version": 3
   },
   "file_extension": ".py",
   "mimetype": "text/x-python",
   "name": "python",
   "nbconvert_exporter": "python",
   "pygments_lexer": "ipython3",
   "version": "3.10.16"
  }
 },
 "nbformat": 4,
 "nbformat_minor": 5
}
